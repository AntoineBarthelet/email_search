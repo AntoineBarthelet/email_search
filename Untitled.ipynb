{
 "cells": [
  {
   "cell_type": "code",
   "execution_count": 5,
   "metadata": {},
   "outputs": [
    {
     "name": "stdout",
     "output_type": "stream",
     "text": [
      "Collecting oauth2client\n",
      "  Downloading https://files.pythonhosted.org/packages/95/a9/4f25a14d23f0786b64875b91784607c2277eff25d48f915e39ff0cff505a/oauth2client-4.1.3-py2.py3-none-any.whl (98kB)\n",
      "Requirement already satisfied, skipping upgrade: pyasn1-modules>=0.0.5 in c:\\users\\antoi\\anaconda3\\lib\\site-packages (from oauth2client) (0.2.7)\n",
      "Requirement already satisfied, skipping upgrade: rsa>=3.1.4 in c:\\users\\antoi\\anaconda3\\lib\\site-packages (from oauth2client) (4.0)\n",
      "Requirement already satisfied, skipping upgrade: pyasn1>=0.1.7 in c:\\users\\antoi\\anaconda3\\lib\\site-packages (from oauth2client) (0.4.7)\n",
      "Requirement already satisfied, skipping upgrade: httplib2>=0.9.1 in c:\\users\\antoi\\anaconda3\\lib\\site-packages (from oauth2client) (0.18.1)\n",
      "Requirement already satisfied, skipping upgrade: six>=1.6.1 in c:\\users\\antoi\\anaconda3\\lib\\site-packages (from oauth2client) (1.12.0)\n",
      "Installing collected packages: oauth2client\n",
      "Successfully installed oauth2client-4.1.3\n"
     ]
    }
   ],
   "source": [
    "# !pip install --upgrade google-api-python-client\n",
    "!pip install --upgrade oauth2client "
   ]
  },
  {
   "cell_type": "code",
   "execution_count": 1,
   "metadata": {},
   "outputs": [
    {
     "name": "stdout",
     "output_type": "stream",
     "text": [
      "Labels:\n",
      "CHAT\n",
      "SENT\n",
      "INBOX\n",
      "IMPORTANT\n",
      "TRASH\n",
      "DRAFT\n",
      "SPAM\n",
      "CATEGORY_FORUMS\n",
      "CATEGORY_UPDATES\n",
      "CATEGORY_PERSONAL\n",
      "CATEGORY_PROMOTIONS\n",
      "CATEGORY_SOCIAL\n",
      "STARRED\n",
      "UNREAD\n",
      "Notes\n"
     ]
    }
   ],
   "source": [
    "from apiclient.discovery import build\n",
    "from httplib2 import Http\n",
    "from oauth2client import file, client, tools\n",
    " \n",
    "# Setup the Gmail API\n",
    "SCOPES = 'https://www.googleapis.com/auth/gmail.readonly'\n",
    "store = file.Storage('credentials.json')\n",
    "creds = store.get()\n",
    "if not creds or creds.invalid:\n",
    "    flow = client.flow_from_clientsecrets('client_secret.json', SCOPES)\n",
    "    creds = tools.run_flow(flow, store)\n",
    "service = build('gmail', 'v1', http=creds.authorize(Http()))\n",
    " \n",
    "# Call the Gmail API\n",
    "results = service.users().labels().list(userId='me').execute()\n",
    "labels = results.get('labels', [])\n",
    "if not labels:\n",
    "    print('No labels found.')\n",
    "else:\n",
    "    print('Labels:')\n",
    "    for label in labels:\n",
    "        print(label['name'])"
   ]
  },
  {
   "cell_type": "code",
   "execution_count": 2,
   "metadata": {},
   "outputs": [],
   "source": [
    "\"\"\"Get a list of Messages from the user's mailbox.\n",
    "\"\"\"\n",
    "\n",
    "from apiclient import errors\n",
    "\n",
    "\n",
    "def ListMessagesMatchingQuery(service, user_id, query=''):\n",
    "  \"\"\"List all Messages of the user's mailbox matching the query.\n",
    "\n",
    "  Args:\n",
    "    service: Authorized Gmail API service instance.\n",
    "    user_id: User's email address. The special value \"me\"\n",
    "    can be used to indicate the authenticated user.\n",
    "    query: String used to filter messages returned.\n",
    "    Eg.- 'from:user@some_domain.com' for Messages from a particular sender.\n",
    "\n",
    "  Returns:\n",
    "    List of Messages that match the criteria of the query. Note that the\n",
    "    returned list contains Message IDs, you must use get with the\n",
    "    appropriate ID to get the details of a Message.\n",
    "  \"\"\"\n",
    "  try:\n",
    "    response = service.users().messages().list(userId=user_id,\n",
    "                                               q=query, includeSpamTrash=True).execute()\n",
    "    messages = []\n",
    "    if 'messages' in response:\n",
    "      messages.extend(response['messages'])\n",
    "\n",
    "    while 'nextPageToken' in response:\n",
    "      page_token = response['nextPageToken']\n",
    "      response = service.users().messages().list(userId=user_id, q=query,\n",
    "                                         pageToken=page_token, includeSpamTrash=True).execute()\n",
    "      messages.extend(response['messages'])\n",
    "\n",
    "    return messages\n",
    "  except errors.HttpError as error:\n",
    "    print('An error occurred: %s' % error)\n",
    "\n",
    "\n",
    "def ListMessagesWithLabels(service, user_id, label_ids=[]):\n",
    "  \"\"\"List all Messages of the user's mailbox with label_ids applied.\n",
    "\n",
    "  Args:\n",
    "    service: Authorized Gmail API service instance.\n",
    "    user_id: User's email address. The special value \"me\"\n",
    "    can be used to indicate the authenticated user.\n",
    "    label_ids: Only return Messages with these labelIds applied.\n",
    "\n",
    "  Returns:\n",
    "    List of Messages that have all required Labels applied. Note that the\n",
    "    returned list contains Message IDs, you must use get with the\n",
    "    appropriate id to get the details of a Message.\n",
    "  \"\"\"\n",
    "  try:\n",
    "    response = service.users().messages().list(userId=user_id,\n",
    "                                               labelIds=label_ids, includeSpamTrash=True).execute()\n",
    "    messages = []\n",
    "    if 'messages' in response:\n",
    "      messages.extend(response['messages'])\n",
    "\n",
    "    while 'nextPageToken' in response:\n",
    "      page_token = response['nextPageToken']\n",
    "      response = service.users().messages().list(userId=user_id,\n",
    "                                                 labelIds=label_ids,\n",
    "                                                 pageToken=page_token, includeSpamTrash=True).execute()\n",
    "      messages.extend(response['messages'])\n",
    "\n",
    "    return messages\n",
    "  except errors.HttpError as error:\n",
    "    print('An error occurred: %s' % error)"
   ]
  },
  {
   "cell_type": "code",
   "execution_count": 3,
   "metadata": {},
   "outputs": [],
   "source": [
    "from tqdm import tqdm"
   ]
  },
  {
   "cell_type": "code",
   "execution_count": 18,
   "metadata": {},
   "outputs": [
    {
     "name": "stderr",
     "output_type": "stream",
     "text": [
      "100%|██████████████████████████████████████████████████████████████████████████████████| 27/27 [01:45<00:00,  3.91s/it]\n"
     ]
    }
   ],
   "source": [
    "messages = []\n",
    "for query in tqdm(spamlist):\n",
    "    result = ListMessagesMatchingQuery(service, 'me', query='from:*@'+query)\n",
    "    for r in result:\n",
    "        if 'SPAM' in service.users().messages().get(userId='me', id=r['id']).execute()['labelIds']:\n",
    "            messages.append(r)"
   ]
  },
  {
   "cell_type": "code",
   "execution_count": 26,
   "metadata": {},
   "outputs": [
    {
     "data": {
      "text/plain": [
       "googleapiclient.http.HttpRequest"
      ]
     },
     "execution_count": 26,
     "metadata": {},
     "output_type": "execute_result"
    }
   ],
   "source": []
  },
  {
   "cell_type": "code",
   "execution_count": 27,
   "metadata": {
    "scrolled": true
   },
   "outputs": [],
   "source": [
    "case = service.users().messages().get(userId='me', id=messages[0]['id'], format=\"raw\", metadataHeaders=None).execute()"
   ]
  },
  {
   "cell_type": "code",
   "execution_count": 28,
   "metadata": {},
   "outputs": [
    {
     "data": {
      "text/plain": [
       "{'id': '1730f7a55e4ca5bc',\n",
       " 'threadId': '1730f7a55e4ca5bc',\n",
       " 'labelIds': ['CATEGORY_PROMOTIONS', 'UNREAD', 'SPAM'],\n",
       " 'snippet': '2 days only Email not displaying properly? View it in a browser. Logo use code FOURTH10 Facebook Twitter Instagram Blog Phone DOWNLOAD OUR APP iOS | Android About us | Contact us | 1.800.709.7191 | My',\n",
       " 'sizeEstimate': 20915,\n",
       " 'raw': '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',\n",
       " 'historyId': '6673045',\n",
       " 'internalDate': '1593692505000'}"
      ]
     },
     "execution_count": 28,
     "metadata": {},
     "output_type": "execute_result"
    }
   ],
   "source": [
    "# solution at https://stackoverflow.com/questions/55130360/python-download-as-pdf-all-emails-from-a-label-gmail"
   ]
  },
  {
   "cell_type": "code",
   "execution_count": 28,
   "metadata": {},
   "outputs": [
    {
     "data": {
      "text/plain": [
       "[{'id': '160e1b77a100d86e', 'threadId': '160e1b77a100d86e'},\n",
       " {'id': '144dab5bf7ffe368', 'threadId': '144dab5bf7ffe368'}]"
      ]
     },
     "execution_count": 28,
     "metadata": {},
     "output_type": "execute_result"
    }
   ],
   "source": [
    "ListMessagesMatchingQuery(service, 'me', query='Liberty Mutual')"
   ]
  },
  {
   "cell_type": "code",
   "execution_count": 16,
   "metadata": {},
   "outputs": [],
   "source": [
    "spamlist = open('spamlist.txt','r').read().split('\\n')"
   ]
  },
  {
   "cell_type": "code",
   "execution_count": 17,
   "metadata": {},
   "outputs": [
    {
     "data": {
      "text/plain": [
       "['amazonaws.com',\n",
       " 'target.com',\n",
       " 'llbean.com',\n",
       " 'zulily.com',\n",
       " 'nytimes.com',\n",
       " 'bestbuy.com',\n",
       " 'shutterfly.com',\n",
       " 'saksoff5th.com',\n",
       " 'josbank.com',\n",
       " 'github.com',\n",
       " 'underarmour.com',\n",
       " 'hallmark.com',\n",
       " 'nflshop.com',\n",
       " 'venmo.com',\n",
       " 'nike.com',\n",
       " 'biglots.com',\n",
       " 'puritan.com',\n",
       " 'outback.com',\n",
       " 'steinmart.com',\n",
       " 'yoox.com',\n",
       " 'oshkosh.com',\n",
       " 'hiltonhhonors.com',\n",
       " 'officedepot.com',\n",
       " 'travelzoo.com',\n",
       " 'hottopic.com',\n",
       " 'kirklands.com',\n",
       " 'delivery.com']"
      ]
     },
     "execution_count": 17,
     "metadata": {},
     "output_type": "execute_result"
    }
   ],
   "source": [
    "spamlist"
   ]
  },
  {
   "cell_type": "code",
   "execution_count": 18,
   "metadata": {},
   "outputs": [],
   "source": [
    "# Call the Gmail API, only get 1 of the the recent message ids\n",
    "# First get the message id for the message\n",
    "results = service.users().messages().list(userId='me').execute()\n",
    " \n",
    "# get the message id from the results object\n",
    "message_id = results['messages'][23]['id']\n",
    " \n",
    "# use the message id to get the actual message, including any attachments\n",
    "message = service.users().messages().get(userId='me', id=message_id).execute()\n",
    " \n",
    "# now the message object contains the entire recent message\n"
   ]
  },
  {
   "cell_type": "code",
   "execution_count": 19,
   "metadata": {},
   "outputs": [
    {
     "data": {
      "text/plain": [
       "3"
      ]
     },
     "execution_count": 19,
     "metadata": {},
     "output_type": "execute_result"
    }
   ],
   "source": [
    "len(results)"
   ]
  },
  {
   "cell_type": "code",
   "execution_count": 20,
   "metadata": {},
   "outputs": [
    {
     "data": {
      "text/plain": [
       "{'id': '172cef5c37561b5f',\n",
       " 'threadId': '172cef5c37561b5f',\n",
       " 'labelIds': ['CATEGORY_PROMOTIONS', 'UNREAD', 'INBOX'],\n",
       " 'snippet': 'New Code Review Request: Statistics, Probability, Julia, Matrices, Numerical methods Jordan Suchow Analyze difficulty of upgrading this codebase to Julia 1.x I am eventually going to upgrade the',\n",
       " 'payload': {'partId': '',\n",
       "  'mimeType': 'text/html',\n",
       "  'filename': '',\n",
       "  'headers': [{'name': 'Delivered-To', 'value': 'antoinebarthelet@gmail.com'},\n",
       "   {'name': 'Received',\n",
       "    'value': 'by 2002:a6b:e415:0:0:0:0:0 with SMTP id u21csp1042978iog;        Fri, 19 Jun 2020 16:41:52 -0700 (PDT)'},\n",
       "   {'name': 'X-Google-Smtp-Source',\n",
       "    'value': 'ABdhPJxL7ExKa1tZttloIUydDWI0OkK4OSDPc1+ZntywfhMKv8MtulpOkGGpghcQuWiYgI5Njjs1'},\n",
       "   {'name': 'X-Received',\n",
       "    'value': 'by 2002:a17:907:33ce:: with SMTP id zk14mr5816598ejb.2.1592610112157;        Fri, 19 Jun 2020 16:41:52 -0700 (PDT)'},\n",
       "   {'name': 'ARC-Seal',\n",
       "    'value': 'i=1; a=rsa-sha256; t=1592610112; cv=none;        d=google.com; s=arc-20160816;        b=x6htUH4jbDXgm7SqJRmHx6Be4nORpTyIP+oYp2KZ5+RsXxbBu7+K4R6gqKsNPo35Oo         ABWl41sgppcWvjl9X4mqgiW/KMYs+/TaJPKNIzWuiYBiwG47KlLI52YhPbkseHU4tzFu         DH/u7Q1/h2IGdbMgW64uZpAgobA307+2DI64es7weK4RfF5lqNCVlYS+cgNPV/9VRqYO         IAGm8nVxBMbL8fOUV3DyOyxsTzwbBHZH421teh1DY9NFD6S3AAoJGi2l3XUpVaBVhAUq         H9LCPEaidfB/n5Ao2EHBBk4o50j9SKO7B9EmouNc5hF2XdbYjupIXbbduZPVGJYZXmaA         Ag8A=='},\n",
       "   {'name': 'ARC-Message-Signature',\n",
       "    'value': 'i=1; a=rsa-sha256; c=relaxed/relaxed; d=google.com; s=arc-20160816;        h=subject:message-id:to:reply-to:mime-version:from:date         :content-transfer-encoding:dkim-signature:dkim-signature;        bh=MNkoEaqLAVpr8WnyW+FPKkRRL9pGGCebXOL49LKjA/k=;        b=soTEgWzw0uhz9xtyrOm/odCSrAnzo0r4/7+DDHwiYhamQmFH3q1devN0SsDIJ/f3sf         u3HYNggRpggWrhtN8Y9TYSLzXWMsFrUjMCCRwl/jUbmRm2I1NTCNGBXW4kNTMiHGmCoU         +/WTqJHvqVO796g6zMQkJZlxP3hUr0vRegeLMnUjfg3Gonn2voiOp80trUVBcdYZ0+1f         PXl1RFH8B+HWoC4b8204q8LmYQg4oyGS2VwcVs6FqlNEnR/kPzl1aUjiUjPku8OCx8rP         Frvu0u17QA8xQfewQzRd0QGGm4PVXM2FVAewjUFETTfQlX7YobD8/4XFzM692CL5YJ+O         0zPQ=='},\n",
       "   {'name': 'ARC-Authentication-Results',\n",
       "    'value': 'i=1; mx.google.com;       dkim=pass header.i=@codementor.io header.s=smtpapi header.b=yNBcxBzn;       dkim=pass header.i=@sendgrid.info header.s=smtpapi header.b=pPdqeQKT;       spf=pass (google.com: domain of bounces+1740036-cba1-antoinebarthelet=gmail.com@sendgrid.codementor.io designates 50.31.44.10 as permitted sender) smtp.mailfrom=\"bounces+1740036-cba1-antoinebarthelet=gmail.com@sendgrid.codementor.io\";       dmarc=pass (p=REJECT sp=QUARANTINE dis=NONE) header.from=codementor.io'},\n",
       "   {'name': 'Return-Path',\n",
       "    'value': '<bounces+1740036-cba1-antoinebarthelet=gmail.com@sendgrid.codementor.io>'},\n",
       "   {'name': 'Received',\n",
       "    'value': 'from o1.sendgrid.codementor.io (o1.sendgrid.codementor.io. [50.31.44.10])        by mx.google.com with ESMTPS id no7si4344464ejb.145.2020.06.19.16.41.51        for <antoinebarthelet@gmail.com>        (version=TLS1_2 cipher=ECDHE-ECDSA-AES128-GCM-SHA256 bits=128/128);        Fri, 19 Jun 2020 16:41:52 -0700 (PDT)'},\n",
       "   {'name': 'Received-SPF',\n",
       "    'value': 'pass (google.com: domain of bounces+1740036-cba1-antoinebarthelet=gmail.com@sendgrid.codementor.io designates 50.31.44.10 as permitted sender) client-ip=50.31.44.10;'},\n",
       "   {'name': 'Authentication-Results',\n",
       "    'value': 'mx.google.com;       dkim=pass header.i=@codementor.io header.s=smtpapi header.b=yNBcxBzn;       dkim=pass header.i=@sendgrid.info header.s=smtpapi header.b=pPdqeQKT;       spf=pass (google.com: domain of bounces+1740036-cba1-antoinebarthelet=gmail.com@sendgrid.codementor.io designates 50.31.44.10 as permitted sender) smtp.mailfrom=\"bounces+1740036-cba1-antoinebarthelet=gmail.com@sendgrid.codementor.io\";       dmarc=pass (p=REJECT sp=QUARANTINE dis=NONE) header.from=codementor.io'},\n",
       "   {'name': 'DKIM-Signature',\n",
       "    'value': 'v=1; a=rsa-sha256; c=relaxed/relaxed; d=codementor.io; h=content-transfer-encoding:content-type:from:mime-version:reply-to:to:subject; s=smtpapi; bh=MNkoEaqLAVpr8WnyW+FPKkRRL9pGGCebXOL49LKjA/k=; b=yN BcxBznnft8TwIGuckbuOJkoFEUfFggQLlkFZwTWBbegutQeaXHsSpmvejELWAdKJ F8fEP6IzQP27vRV0kcbup+VFTL29BnqAMs/Jo8FMlMO8IAzVlekSumsZ+WrbW0bi L+JqnW843OsPuKR2Ojzm7GC9Zd5caniq9ZXlMUpoc='},\n",
       "   {'name': 'DKIM-Signature',\n",
       "    'value': 'v=1; a=rsa-sha256; c=relaxed/relaxed; d=sendgrid.info; h=content-transfer-encoding:content-type:from:mime-version:reply-to:to:subject:x-feedback-id; s=smtpapi; bh=MNkoEaqLAVpr8WnyW+FPKkRRL9pGGCebXOL49LKjA/k=; b=pP dqeQKTbEXAAHvumy6/Qltn10F0MMX0ZhNhtumRpBdElMekM4ijCrEJAbSW+5tbCg B3qZTqUdB4gu6PV6XG8eqdrGJjmvCDOUtVGd+hCjqZeQcIkEVjcvKBPhgkFSKfzX 26gOhF7W9lbxg59mOwmxxTVwFPfqTuToSEPUh6Gws='},\n",
       "   {'name': 'Received',\n",
       "    'value': 'by filter0606p1iad2.sendgrid.net with SMTP id filter0606p1iad2-18158-5EED4D3E-11        2020-06-19 23:41:50.404710859 +0000 UTC m=+193933.010172040'},\n",
       "   {'name': 'Received',\n",
       "    'value': 'from MTc0MDAzNg (unknown) by ismtpd0015p1iad1.sendgrid.net (SG) with HTTP id 8EdfV2cGQp2nmEYlfyiMnA Fri, 19 Jun 2020 23:41:50.334 +0000 (UTC)'},\n",
       "   {'name': 'Content-Transfer-Encoding', 'value': 'quoted-printable'},\n",
       "   {'name': 'Content-Type', 'value': 'text/html; charset=UTF-8'},\n",
       "   {'name': 'Date', 'value': 'Fri, 19 Jun 2020 23:41:50 +0000 (UTC)'},\n",
       "   {'name': 'From', 'value': 'Codementor <noreply@codementor.io>'},\n",
       "   {'name': 'Mime-Version', 'value': '1.0'},\n",
       "   {'name': 'Reply-to', 'value': 'noreply@codementor.io'},\n",
       "   {'name': 'To', 'value': 'Antoine Barthelet <antoinebarthelet@gmail.com>'},\n",
       "   {'name': 'Message-ID',\n",
       "    'value': '<8EdfV2cGQp2nmEYlfyiMnA@ismtpd0015p1iad1.sendgrid.net>'},\n",
       "   {'name': 'Subject',\n",
       "    'value': 'New Code Review Request ($80.0/hr) - Analyze difficulty of upgrading this codebase to Julia 1.x'},\n",
       "   {'name': 'X-SWU-RECEIPT-ID',\n",
       "    'value': 'log_9b152138e0e540130ee2c2f5f255c61e-3'},\n",
       "   {'name': 'X-SG-EID',\n",
       "    'value': 'b+NsWgcCxipsD+3XtDP3I7GYhyjmjIL2MSGM+717Ysf/diUI2wYOUGlyI/GnrF/aumH40E1X2BsDOg uXtFy0KsCmvZdeFY1DlmAZvoO8wto7dvD+KDvqBRbsIGSAUZjr7MMO5BNMF/YsGvsUccp43vIQR77X yfCLoGu1oCIzshLa1chru9zy5yaDyA0olvdV9IcYDUXTyK1IMYqNgR3uzbr2/PSZ3x61TZCo5SIqf7 c='},\n",
       "   {'name': 'X-SG-ID',\n",
       "    'value': 'bTKlOgcpTO2fPtMUdqziakY8tiJudANc+Ooc4oTqWCEph37s8SDKFg0kAq8cXBe3FMtWtvFbLRSDdo pJiSqA+ofszyi7/q6FVFcHYXZB57HeWD4+uLeF/ggPiYbHI1of+xytddEVx4ZZzaEmS2D7KzKtYsi4 PVWAdBuJfvvid+IanilpLumAvgL95+OqYn8Rqo+uZrLM6ipWPLNY95HK6MhpEtP9F4f5qXdkS8sak3 c='},\n",
       "   {'name': 'X-Feedback-ID',\n",
       "    'value': '1740036:6I2NCl7UVh44FcEgASVh7FCxEPjOVKksBmQjo/BPrSg=:6I2NCl7UVh44FcEgASVh7FCxEPjOVKksBmQjo/BPrSg=:SG'}],\n",
       "  'body': {'size': 11234,\n",
       "   'data': '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'}},\n",
       " 'sizeEstimate': 17312,\n",
       " 'historyId': '6620174',\n",
       " 'internalDate': '1592610110000'}"
      ]
     },
     "execution_count": 20,
     "metadata": {},
     "output_type": "execute_result"
    }
   ],
   "source": [
    "message"
   ]
  },
  {
   "cell_type": "code",
   "execution_count": null,
   "metadata": {},
   "outputs": [],
   "source": []
  },
  {
   "cell_type": "code",
   "execution_count": null,
   "metadata": {},
   "outputs": [],
   "source": []
  },
  {
   "cell_type": "code",
   "execution_count": null,
   "metadata": {},
   "outputs": [],
   "source": []
  },
  {
   "cell_type": "code",
   "execution_count": null,
   "metadata": {},
   "outputs": [],
   "source": []
  },
  {
   "cell_type": "code",
   "execution_count": null,
   "metadata": {},
   "outputs": [],
   "source": []
  },
  {
   "cell_type": "code",
   "execution_count": null,
   "metadata": {},
   "outputs": [],
   "source": [
    "import smtplib\n",
    "\n",
    "try:\n",
    "    server = smtplib.SMTP('smtp.gmail.com', 587)\n",
    "    server.ehlo()\n",
    "except:\n",
    "    print('Something went wrong...')"
   ]
  },
  {
   "cell_type": "code",
   "execution_count": null,
   "metadata": {},
   "outputs": [],
   "source": []
  },
  {
   "cell_type": "code",
   "execution_count": null,
   "metadata": {},
   "outputs": [],
   "source": [
    "import smtplib\n",
    "import time\n",
    "import imaplib\n",
    "import email"
   ]
  },
  {
   "cell_type": "code",
   "execution_count": null,
   "metadata": {},
   "outputs": [],
   "source": [
    "# -------------------------------------------------\n",
    "#\n",
    "# Utility to read email from Gmail Using Python\n",
    "#\n",
    "# ------------------------------------------------\n",
    "\n",
    "def read_email_from_gmail(FROM_EMAIL, FROM_PWD, SMTP_SERVER):\n",
    "    try:\n",
    "        mail = imaplib.IMAP4_SSL(SMTP_SERVER)\n",
    "        mail.login(FROM_EMAIL,FROM_PWD)\n",
    "        mail.select('inbox')\n",
    "\n",
    "        type, data = mail.search(None, 'ALL')\n",
    "        mail_ids = data[0]\n",
    "\n",
    "        id_list = mail_ids.split()   \n",
    "        first_email_id = int(id_list[0])\n",
    "        latest_email_id = int(id_list[-1])\n",
    "\n",
    "\n",
    "        for i in range(latest_email_id,first_email_id, -1):\n",
    "            typ, data = mail.fetch(i, '(RFC822)' )\n",
    "\n",
    "            for response_part in data:\n",
    "                if isinstance(response_part, tuple):\n",
    "                    msg = email.message_from_string(response_part[1])\n",
    "                    email_subject = msg['subject']\n",
    "                    email_from = msg['from']\n",
    "                    print('From : ' + email_from + '\\n')\n",
    "                    print('Subject : ' + email_subject + '\\n')\n",
    "\n",
    "    except Exception:\n",
    "        print(Exception)"
   ]
  },
  {
   "cell_type": "code",
   "execution_count": null,
   "metadata": {},
   "outputs": [],
   "source": [
    "ORG_EMAIL   = \"@gmail.com\"\n",
    "FROM_EMAIL  = \"antoinebarthelet\" + ORG_EMAIL\n",
    "FROM_PWD    = \"Aomft13579!$?\"\n",
    "SMTP_SERVER = \"imap.gmail.com\"\n",
    "SMTP_PORT   = 993"
   ]
  },
  {
   "cell_type": "code",
   "execution_count": null,
   "metadata": {},
   "outputs": [],
   "source": [
    "mail = imaplib.IMAP4_SSL(SMTP_SERVER)\n",
    "mail.login(FROM_EMAIL,FROM_PWD)\n",
    "mail.select('inbox')\n",
    "\n",
    "type, data = mail.search(None, 'ALL')\n",
    "mail_ids = data[0]\n",
    "\n",
    "id_list = mail_ids.split()   \n",
    "first_email_id = int(id_list[0])\n",
    "latest_email_id = int(id_list[-1])\n",
    "\n",
    "\n",
    "for i in range(latest_email_id,first_email_id, -1):\n",
    "    typ, data = mail.fetch(i, '(RFC822)' )\n",
    "\n",
    "    for response_part in data:\n",
    "        if isinstance(response_part, tuple):\n",
    "            msg = email.message_from_string(response_part[1])\n",
    "            email_subject = msg['subject']\n",
    "            email_from = msg['from']\n",
    "            print('From : ' + email_from + '\\n')\n",
    "            print('Subject : ' + email_subject + '\\n')"
   ]
  },
  {
   "cell_type": "code",
   "execution_count": null,
   "metadata": {},
   "outputs": [],
   "source": []
  },
  {
   "cell_type": "code",
   "execution_count": null,
   "metadata": {},
   "outputs": [],
   "source": [
    "print(FROM_EMAIL, FROM_PWD)"
   ]
  },
  {
   "cell_type": "code",
   "execution_count": null,
   "metadata": {},
   "outputs": [],
   "source": []
  }
 ],
 "metadata": {
  "kernelspec": {
   "display_name": "Python 3",
   "language": "python",
   "name": "python3"
  },
  "language_info": {
   "codemirror_mode": {
    "name": "ipython",
    "version": 3
   },
   "file_extension": ".py",
   "mimetype": "text/x-python",
   "name": "python",
   "nbconvert_exporter": "python",
   "pygments_lexer": "ipython3",
   "version": "3.7.4"
  }
 },
 "nbformat": 4,
 "nbformat_minor": 2
}
